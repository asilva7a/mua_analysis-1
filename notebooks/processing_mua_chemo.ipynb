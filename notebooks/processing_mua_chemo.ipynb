{
 "cells": [
  {
   "cell_type": "code",
   "execution_count": 4,
   "metadata": {},
   "outputs": [
    {
     "name": "stdout",
     "output_type": "stream",
     "text": [
      "All packages imported successfully!\n"
     ]
    }
   ],
   "source": [
    "import sys\n",
    "import os\n",
    "import pandas as pd\n",
    "from neural_analysis_pkg import NeuralAnalysis\n",
    "import brpylib #import blackrock library\n",
    "\n",
    "print(\"All packages imported successfully!\")"
   ]
  },
  {
   "cell_type": "code",
   "execution_count": 8,
   "metadata": {},
   "outputs": [
    {
     "name": "stdout",
     "output_type": "stream",
     "text": [
      "No existing recording results dataframe found. Run process_dat_file method to generate it.\n",
      "Total number of groups: 3\n",
      "Group 1/3: Control has 1 recordings\n",
      "Downsampled file does not exist at D:\\eb_recordings\\SpikeStuff\\Control\\pvalb_notreat_0005_rec1\\temp_wh_downsampled.npy ...proceeding with downsampling\n"
     ]
    },
    {
     "ename": "MemoryError",
     "evalue": "Unable to allocate 22.4 GiB for an array with shape (12028416000,) and data type int16",
     "output_type": "error",
     "traceback": [
      "\u001b[1;31m---------------------------------------------------------------------------\u001b[0m",
      "\u001b[1;31mMemoryError\u001b[0m                               Traceback (most recent call last)",
      "Cell \u001b[1;32mIn[8], line 6\u001b[0m\n\u001b[0;32m      4\u001b[0m analysis \u001b[38;5;241m=\u001b[39m NeuralAnalysis(project_folder_path)\n\u001b[0;32m      5\u001b[0m base_dir \u001b[38;5;241m=\u001b[39m \u001b[38;5;124mr\u001b[39m\u001b[38;5;124m'\u001b[39m\u001b[38;5;124mD:\u001b[39m\u001b[38;5;124m\\\u001b[39m\u001b[38;5;124meb_recordings\u001b[39m\u001b[38;5;124m'\u001b[39m\n\u001b[1;32m----> 6\u001b[0m \u001b[43manalysis\u001b[49m\u001b[38;5;241;43m.\u001b[39;49m\u001b[43mprocess_dat_file\u001b[49m\u001b[43m(\u001b[49m\u001b[43mproject_folder_path\u001b[49m\u001b[43m)\u001b[49m\n",
      "File \u001b[1;32mc:\\users\\adsil\\documents\\github\\mua_analysis\\src\\neural_analysis_pkg\\core.py:207\u001b[0m, in \u001b[0;36mNeuralAnalysis.process_dat_file\u001b[1;34m(self, project_folder_path)\u001b[0m\n\u001b[0;32m    202\u001b[0m \u001b[38;5;28mprint\u001b[39m(\u001b[38;5;124mf\u001b[39m\u001b[38;5;124m\"\u001b[39m\u001b[38;5;124mDownsampled file does not exist at \u001b[39m\u001b[38;5;132;01m{\u001b[39;00moutput_file_path\u001b[38;5;132;01m}\u001b[39;00m\u001b[38;5;124m ...proceeding with downsampling\u001b[39m\u001b[38;5;124m\"\u001b[39m)\n\u001b[0;32m    204\u001b[0m \u001b[38;5;66;03m# Now, dat_file_path is the path to a .dat file\u001b[39;00m\n\u001b[0;32m    205\u001b[0m \u001b[38;5;66;03m# Call your .dat file processing function here\u001b[39;00m\n\u001b[0;32m    206\u001b[0m \u001b[38;5;66;03m# Step 1: Read the .dat file\u001b[39;00m\n\u001b[1;32m--> 207\u001b[0m data \u001b[38;5;241m=\u001b[39m \u001b[43mnp\u001b[49m\u001b[38;5;241;43m.\u001b[39;49m\u001b[43mfromfile\u001b[49m\u001b[43m(\u001b[49m\u001b[43mdat_file_path\u001b[49m\u001b[43m,\u001b[49m\u001b[43m \u001b[49m\u001b[43mdtype\u001b[49m\u001b[38;5;241;43m=\u001b[39;49m\u001b[38;5;28;43mself\u001b[39;49m\u001b[38;5;241;43m.\u001b[39;49m\u001b[43mdtype\u001b[49m\u001b[43m)\u001b[49m\n\u001b[0;32m    208\u001b[0m \u001b[38;5;66;03m#check the initial data loading \u001b[39;00m\n\u001b[0;32m    209\u001b[0m \u001b[38;5;28mprint\u001b[39m(\u001b[38;5;124mf\u001b[39m\u001b[38;5;124m\"\u001b[39m\u001b[38;5;124mInitial data min: \u001b[39m\u001b[38;5;132;01m{\u001b[39;00mnp\u001b[38;5;241m.\u001b[39mmin(data)\u001b[38;5;132;01m}\u001b[39;00m\u001b[38;5;124m, max: \u001b[39m\u001b[38;5;132;01m{\u001b[39;00mnp\u001b[38;5;241m.\u001b[39mmax(data)\u001b[38;5;132;01m}\u001b[39;00m\u001b[38;5;124m\"\u001b[39m)\n",
      "\u001b[1;31mMemoryError\u001b[0m: Unable to allocate 22.4 GiB for an array with shape (12028416000,) and data type int16"
     ]
    }
   ],
   "source": [
    "# Define the path to your project folder\n",
    "project_folder_path = r'D:\\eb_recordings'\n",
    "# Initialize the NeuralAnalysis class with the project folder path\n",
    "analysis = NeuralAnalysis(project_folder_path)\n",
    "base_dir = r'D:\\eb_recordings'\n",
    "analysis.process_dat_file(project_folder_path)"
   ]
  },
  {
   "cell_type": "markdown",
   "metadata": {},
   "source": []
  }
 ],
 "metadata": {
  "kernelspec": {
   "display_name": "Python 3",
   "language": "python",
   "name": "python3"
  },
  "language_info": {
   "codemirror_mode": {
    "name": "ipython",
    "version": 3
   },
   "file_extension": ".py",
   "mimetype": "text/x-python",
   "name": "python",
   "nbconvert_exporter": "python",
   "pygments_lexer": "ipython3",
   "version": "3.8.18"
  }
 },
 "nbformat": 4,
 "nbformat_minor": 2
}
