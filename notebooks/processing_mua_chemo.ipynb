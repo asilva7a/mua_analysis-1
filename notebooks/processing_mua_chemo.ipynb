{
 "cells": [
  {
   "cell_type": "code",
   "execution_count": 1,
   "metadata": {},
   "outputs": [
    {
     "name": "stdout",
     "output_type": "stream",
     "text": [
      "All packages imported successfully!\n"
     ]
    }
   ],
   "source": [
    "import sys\n",
    "import os\n",
    "import pandas as pd\n",
    "from neural_analysis_pkg import NeuralAnalysis\n",
    "\n",
    "print(\"All packages imported successfully!\")"
   ]
  },
  {
   "cell_type": "code",
   "execution_count": 3,
   "metadata": {},
   "outputs": [
    {
     "name": "stdout",
     "output_type": "stream",
     "text": [
      "No existing recording results dataframe found. Run process_dat_file method to generate it.\n",
      "project_folder_path: D:\\eb_recordings\\SpikeStuff\n",
      "base_dir: D:\\eb_recordings\\SpikeStuff\n"
     ]
    }
   ],
   "source": [
    "# Define the path to your project folder\n",
    "project_folder_path ='D:\\eb_recordings\\SpikeStuff'\n",
    "# Initialize the NeuralAnalysis class with the project folder path\n",
    "analysis = NeuralAnalysis(project_folder_path)\n",
    "base_dir = 'D:\\eb_recordings\\SpikeStuff'\n",
    "\n",
    "# Print file paths\n",
    "print('project_folder_path:', project_folder_path)\n",
    "print('base_dir:', base_dir)"
   ]
  }
 ],
 "metadata": {
  "kernelspec": {
   "display_name": "Python 3",
   "language": "python",
   "name": "python3"
  },
  "language_info": {
   "codemirror_mode": {
    "name": "ipython",
    "version": 3
   },
   "file_extension": ".py",
   "mimetype": "text/x-python",
   "name": "python",
   "nbconvert_exporter": "python",
   "pygments_lexer": "ipython3",
   "version": "3.8.18"
  }
 },
 "nbformat": 4,
 "nbformat_minor": 2
}
