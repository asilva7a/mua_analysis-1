{
 "cells": [
  {
   "cell_type": "code",
   "execution_count": null,
   "metadata": {},
   "outputs": [],
   "source": [
    "from neural_analysis_pkg.core import NeuralAnalysis"
   ]
  },
  {
   "cell_type": "code",
   "execution_count": null,
   "metadata": {},
   "outputs": [],
   "source": [
    "# Define the path to your project folder\n",
    "project_folder_path ='/home/cresp1el-local/Documents/MATLAB/Data/lmc_project_v2/LED'\n",
    "# Initialize the NeuralAnalysis class with the project folder path\n",
    "analysis = NeuralAnalysis(project_folder_path)\n",
    "\n",
    "#uncomment if required\n",
    "# analysis.process_dat_file(project_folder_path) #process dat file"
   ]
  }
 ],
 "metadata": {
  "language_info": {
   "name": "python"
  },
  "orig_nbformat": 4
 },
 "nbformat": 4,
 "nbformat_minor": 2
}
